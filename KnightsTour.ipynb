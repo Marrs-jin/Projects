{
 "cells": [
  {
   "cell_type": "code",
   "execution_count": 1,
   "metadata": {},
   "outputs": [],
   "source": [
    "import numpy as np"
   ]
  },
  {
   "cell_type": "code",
   "execution_count": 2,
   "metadata": {},
   "outputs": [
    {
     "data": {
      "text/plain": [
       "1"
      ]
     },
     "execution_count": 2,
     "metadata": {},
     "output_type": "execute_result"
    }
   ],
   "source": [
    "import random\n",
    "num1 = random.randint(1, 2)\n",
    "num1"
   ]
  },
  {
   "cell_type": "code",
   "execution_count": 46,
   "metadata": {},
   "outputs": [
    {
     "data": {
      "text/plain": [
       "1"
      ]
     },
     "execution_count": 46,
     "metadata": {},
     "output_type": "execute_result"
    }
   ],
   "source": [
    "(-1) ** 0"
   ]
  },
  {
   "cell_type": "code",
   "execution_count": 56,
   "metadata": {},
   "outputs": [
    {
     "data": {
      "text/plain": [
       "1"
      ]
     },
     "execution_count": 56,
     "metadata": {},
     "output_type": "execute_result"
    }
   ],
   "source": [
    "(-1) ** random.randint(0, 1)"
   ]
  },
  {
   "cell_type": "code",
   "execution_count": 83,
   "metadata": {},
   "outputs": [
    {
     "data": {
      "text/plain": [
       "1"
      ]
     },
     "execution_count": 83,
     "metadata": {},
     "output_type": "execute_result"
    }
   ],
   "source": [
    "pos = ([0,1])\n",
    "pos[1]"
   ]
  },
  {
   "cell_type": "code",
   "execution_count": 5,
   "metadata": {},
   "outputs": [
    {
     "name": "stdout",
     "output_type": "stream",
     "text": [
      "[[0. 0. 0. 0. 0. 0. 0. 0.]\n",
      " [0. 0. 0. 0. 0. 0. 0. 0.]\n",
      " [0. 0. 0. 0. 0. 0. 0. 0.]\n",
      " [0. 0. 0. 0. 0. 0. 0. 0.]\n",
      " [0. 0. 0. 0. 0. 0. 0. 0.]\n",
      " [0. 0. 0. 0. 0. 0. 0. 0.]\n",
      " [0. 0. 0. 0. 0. 0. 0. 0.]\n",
      " [0. 0. 0. 0. 0. 0. 1. 0.]]\n",
      "[[0. 1. 1. 1. 1. 1. 0. 0.]\n",
      " [0. 1. 1. 1. 1. 0. 1. 1.]\n",
      " [1. 1. 1. 0. 1. 0. 1. 0.]\n",
      " [1. 0. 1. 1. 1. 1. 1. 0.]\n",
      " [0. 1. 1. 1. 1. 1. 0. 1.]\n",
      " [1. 1. 1. 1. 1. 1. 1. 1.]\n",
      " [1. 1. 1. 1. 1. 1. 1. 0.]\n",
      " [1. 1. 0. 1. 1. 1. 1. 1.]]\n"
     ]
    }
   ],
   "source": [
    "#sum of each steps is always 3, left and down are negative, right and up are positive, randomly assigned\n",
    "num_hor = (-1) ** random.randint(0, 1) * random.randint(1,2)\n",
    "num_ver = (-1) ** random.randint(0, 1) * (3 - np.abs(num_hor))\n",
    "count = 0\n",
    "#pos = ([0,0]) #initial position, row, column. so vertical-horizontal\n",
    "pos = ([np.random.randint(0,8), np.random.randint(0,8)])\n",
    "grid = np.zeros(shape = (8,8))\n",
    "grid[pos[0], pos[1]] = 1\n",
    "print(grid)\n",
    "while count < 1000 and (0 in grid):\n",
    "    num_hor = (-1) ** random.randint(0, 1) * random.randint(1,2) # -1\n",
    "    num_ver = (-1) ** random.randint(0, 1) * (3 - np.abs(num_hor)) #+ (3-1) = 2\n",
    "    new_hor = pos[1] + num_hor\n",
    "    new_ver = pos[0] + num_ver\n",
    "    try:\n",
    "        #print('hi', new_hor, new_ver)\n",
    "        if (0 <= new_hor < 8) and (0 <= new_ver < 8) and (grid[new_ver, new_hor] != 1):\n",
    "            pos[1] = new_hor\n",
    "            pos[0] = new_ver\n",
    "            grid[pos[0], pos[1]] = 1\n",
    "    except IndexError:\n",
    "        pass\n",
    "    #print(grid)\n",
    "    count +=1\n",
    "print(grid)\n",
    "#next step would be running this for every possible starting spot"
   ]
  },
  {
   "cell_type": "code",
   "execution_count": 47,
   "metadata": {},
   "outputs": [
    {
     "name": "stdout",
     "output_type": "stream",
     "text": [
      "1 2\n",
      "0.0\n",
      "0.0\n",
      "0.0\n"
     ]
    },
    {
     "ename": "IndexError",
     "evalue": "index 8 is out of bounds for axis 1 with size 8",
     "output_type": "error",
     "traceback": [
      "\u001b[1;31m---------------------------------------------------------------------------\u001b[0m",
      "\u001b[1;31mIndexError\u001b[0m                                Traceback (most recent call last)",
      "\u001b[1;32m<ipython-input-47-deff589faebc>\u001b[0m in \u001b[0;36m<module>\u001b[1;34m\u001b[0m\n\u001b[0;32m     18\u001b[0m \u001b[1;33m\u001b[0m\u001b[0m\n\u001b[0;32m     19\u001b[0m     \u001b[1;32mif\u001b[0m \u001b[0mmv_right_s\u001b[0m \u001b[1;32mand\u001b[0m \u001b[0mmv_up_l\u001b[0m\u001b[1;33m:\u001b[0m\u001b[1;33m\u001b[0m\u001b[1;33m\u001b[0m\u001b[0m\n\u001b[1;32m---> 20\u001b[1;33m         \u001b[0mnot_zero\u001b[0m \u001b[1;33m=\u001b[0m \u001b[1;33m(\u001b[0m\u001b[1;36m0\u001b[0m \u001b[1;33m==\u001b[0m \u001b[0mgrid\u001b[0m\u001b[1;33m[\u001b[0m\u001b[0mstep_loc\u001b[0m\u001b[1;33m[\u001b[0m\u001b[1;36m0\u001b[0m\u001b[1;33m]\u001b[0m \u001b[1;33m+\u001b[0m \u001b[1;36m1\u001b[0m\u001b[1;33m,\u001b[0m \u001b[0mstep_loc\u001b[0m\u001b[1;33m[\u001b[0m\u001b[1;36m1\u001b[0m\u001b[1;33m]\u001b[0m \u001b[1;33m+\u001b[0m \u001b[1;36m2\u001b[0m\u001b[1;33m]\u001b[0m\u001b[1;33m)\u001b[0m \u001b[1;31m#true if the spot hasn't been visited\u001b[0m\u001b[1;33m\u001b[0m\u001b[1;33m\u001b[0m\u001b[0m\n\u001b[0m\u001b[0;32m     21\u001b[0m         \u001b[0mprint\u001b[0m\u001b[1;33m(\u001b[0m\u001b[0mgrid\u001b[0m\u001b[1;33m[\u001b[0m\u001b[0mstep_loc\u001b[0m\u001b[1;33m[\u001b[0m\u001b[1;36m0\u001b[0m\u001b[1;33m]\u001b[0m \u001b[1;33m+\u001b[0m \u001b[1;36m1\u001b[0m\u001b[1;33m,\u001b[0m \u001b[0mstep_loc\u001b[0m\u001b[1;33m[\u001b[0m\u001b[1;36m1\u001b[0m\u001b[1;33m]\u001b[0m \u001b[1;33m+\u001b[0m \u001b[1;36m2\u001b[0m\u001b[1;33m]\u001b[0m\u001b[1;33m)\u001b[0m\u001b[1;33m\u001b[0m\u001b[1;33m\u001b[0m\u001b[0m\n\u001b[0;32m     22\u001b[0m         \u001b[1;32mif\u001b[0m \u001b[0mnot_zero\u001b[0m\u001b[1;33m:\u001b[0m\u001b[1;33m\u001b[0m\u001b[1;33m\u001b[0m\u001b[0m\n",
      "\u001b[1;31mIndexError\u001b[0m: index 8 is out of bounds for axis 1 with size 8"
     ]
    }
   ],
   "source": [
    "grid = np.zeros(shape = (8,8))\n",
    "grid\n",
    "step_loc = [0,0]\n",
    "print(step_loc[0] + 1, step_loc[1] + 2)\n",
    "grid[step_loc[0], step_loc[1]]\n",
    "step_count = 1\n",
    "while 0 in grid:\n",
    "    #8 conditions if statements. \n",
    "    mv_right_s = (step_loc[0] + 1 < 7) #if true they step is possible\n",
    "    mv_left_s = (step_loc[0] - 1 > 0)\n",
    "    mv_up_s = (step_loc[1] + 1 > 0)\n",
    "    mv_down_s = (step_loc[1] + 1 < 7)\n",
    "    \n",
    "    mv_right_l = (step_loc[0] + 2 < 7) #if true they step is possible\n",
    "    mv_left_l = (step_loc[0] - 2 > 0)\n",
    "    mv_up_l = (step_loc[1] + 2 > 0)\n",
    "    mv_down_l = (step_loc[1] + 2 < 7)\n",
    "    \n",
    "    if mv_right_s and mv_up_l:\n",
    "        not_zero = (0 == grid[step_loc[0] + 1, step_loc[1] + 2]) #true if the spot hasn't been visited\n",
    "        print(grid[step_loc[0] + 1, step_loc[1] + 2])\n",
    "        if not_zero:\n",
    "            grid[step_loc[0] + 1, step_loc[1] + 2] = step_count\n",
    "            step_loc[0] += 1\n",
    "            step_loc[1] += 2\n",
    "            \n",
    "    #print(grid)\n",
    "    step_count +=1\n",
    "    if step_count > 100:\n",
    "        break"
   ]
  },
  {
   "cell_type": "code",
   "execution_count": 27,
   "metadata": {},
   "outputs": [
    {
     "data": {
      "text/plain": [
       "True"
      ]
     },
     "execution_count": 27,
     "metadata": {},
     "output_type": "execute_result"
    }
   ],
   "source": [
    "0 == grid[0,0]"
   ]
  },
  {
   "cell_type": "code",
   "execution_count": 23,
   "metadata": {},
   "outputs": [
    {
     "name": "stdout",
     "output_type": "stream",
     "text": [
      "hi\n"
     ]
    }
   ],
   "source": [
    "if True and True and True:\n",
    "    print('hi')"
   ]
  },
  {
   "cell_type": "code",
   "execution_count": 20,
   "metadata": {},
   "outputs": [
    {
     "name": "stdout",
     "output_type": "stream",
     "text": [
      "False\n"
     ]
    },
    {
     "data": {
      "text/plain": [
       "0"
      ]
     },
     "execution_count": 20,
     "metadata": {},
     "output_type": "execute_result"
    }
   ],
   "source": [
    "mv_right = (step_loc[0] - 1 > 0)\n",
    "print(mv_right)\n",
    "step_loc[0]"
   ]
  },
  {
   "cell_type": "code",
   "execution_count": 8,
   "metadata": {},
   "outputs": [
    {
     "data": {
      "text/plain": [
       "0.0"
      ]
     },
     "execution_count": 8,
     "metadata": {},
     "output_type": "execute_result"
    }
   ],
   "source": [
    "grid[0,0]"
   ]
  },
  {
   "cell_type": "code",
   "execution_count": null,
   "metadata": {},
   "outputs": [],
   "source": [
    "    "
   ]
  },
  {
   "cell_type": "code",
   "execution_count": null,
   "metadata": {},
   "outputs": [],
   "source": []
  },
  {
   "cell_type": "code",
   "execution_count": null,
   "metadata": {},
   "outputs": [],
   "source": []
  }
 ],
 "metadata": {
  "kernelspec": {
   "display_name": "Python 3",
   "language": "python",
   "name": "python3"
  },
  "language_info": {
   "codemirror_mode": {
    "name": "ipython",
    "version": 3
   },
   "file_extension": ".py",
   "mimetype": "text/x-python",
   "name": "python",
   "nbconvert_exporter": "python",
   "pygments_lexer": "ipython3",
   "version": "3.8.1"
  }
 },
 "nbformat": 4,
 "nbformat_minor": 4
}
