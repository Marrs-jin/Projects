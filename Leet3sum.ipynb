{
 "cells": [
  {
   "cell_type": "code",
   "execution_count": 6,
   "metadata": {},
   "outputs": [],
   "source": [
    "import numpy as np\n",
    "import itertools \n"
   ]
  },
  {
   "cell_type": "code",
   "execution_count": 7,
   "metadata": {},
   "outputs": [],
   "source": [
    "\n",
    "  \n",
    "def findsubsets(s, n): \n",
    "    return list(itertools.combinations(s, n)) \n",
    "\n",
    "def isSubset(a, b, m, n) : \n",
    "    #a is larger array, b is subset array, m is length of a, n is length of b\n",
    "    #returns 1 if not a subset, 0 if it is a subset\n",
    "    # map to store the values of array a  \n",
    "    mp1 = {} \n",
    "    for i in range(m): \n",
    "        if type(a[i]) == np.ndarray:\n",
    "            q = a[i].flatten\n",
    "            if q not in mp1:\n",
    "                mp1[q] = 0\n",
    "            mp1[q] += 1\n",
    "        elif a[i] not in mp1: \n",
    "            mp1[a[i]] = 0\n",
    "            mp1[a[i]] += 1\n",
    "      \n",
    "    # flag value  \n",
    "    f = 0\n",
    "    for i in range(n): \n",
    "          \n",
    "        # if b[i] is not present in map  \n",
    "        # then array b can not be a  \n",
    "        # subset of array a  \n",
    "        if b[i] not in mp1: \n",
    "            f = 1\n",
    "            break\n",
    "          \n",
    "        # if if b[i] is present in map  \n",
    "        # decrement by one  \n",
    "        #1 is not in main array, 0 IS in main array\n",
    "        else : \n",
    "            mp1[b[i]] -= 1\n",
    "              \n",
    "            if (mp1[b[i]] == 0): \n",
    "                mp1.pop(b[i]) \n",
    "    return f  "
   ]
  },
  {
   "cell_type": "code",
   "execution_count": 8,
   "metadata": {},
   "outputs": [],
   "source": [
    "class threesum():\n",
    "    def sumer(self, nums): #nums is the array passing in. Append it to solutions\n",
    "        subsets = findsubsets(nums, 3) #all subsets of size 3 in original array\n",
    "        solutions = [] #add to 0\n",
    "        subsets_flat = []\n",
    "        solutions_aslist = [] \n",
    "        for sublist in subsets: #flatten list\n",
    "            for item in sublist:\n",
    "                subsets_flat.append(item)\n",
    "\n",
    "\n",
    "        for i in subsets: #\n",
    "            sorted_subset = np.sort(i)\n",
    "            #sorted_subset = i\n",
    "            if np.sum(sorted_subset) == 0:\n",
    "                solutions.append(list(sorted_subset))\n",
    "\n",
    "\n",
    "\n",
    "        for i in solutions: #make items into list from ndarray\n",
    "            i = list(i)\n",
    "            solutions_aslist.append(i)\n",
    "\n",
    "        non_duplicates = set()\n",
    "\n",
    "        for sols in solutions_aslist:\n",
    "            if tuple(sols) in non_duplicates:\n",
    "                pass\n",
    "            else:\n",
    "                non_duplicates.add(tuple(sols))\n",
    "        self.solutions.append(non_duplicates)\n",
    "        return non_duplicates\n",
    "    \n",
    "    def __init__(self, name):\n",
    "        self.name = name\n",
    "        self.solutions = []    # creates a new empty list for each dog"
   ]
  },
  {
   "cell_type": "code",
   "execution_count": 9,
   "metadata": {},
   "outputs": [
    {
     "name": "stdout",
     "output_type": "stream",
     "text": [
      "{(-1, 0, 1), (-1, -1, 2)}\n",
      "{(-1, 0, 1), (-1, -1, 2), (-4, 2, 2)}\n",
      "{(-2, -2, 4), (-2, 0, 2)}\n"
     ]
    }
   ],
   "source": [
    "arr = [-1, 0, 1, 2, -1, -4]\n",
    "\n",
    "d = threesum('arr1')\n",
    "print(d.sumer(arr))\n",
    "p = threesum('arr2')\n",
    "print(p.sumer(arr*2))\n",
    "g = threesum('arr3')\n",
    "print(g.sumer([x*2 for x in arr]))"
   ]
  },
  {
   "cell_type": "code",
   "execution_count": 195,
   "metadata": {},
   "outputs": [
    {
     "data": {
      "text/plain": [
       "[-2, 0, 2, 4, -2, -8]"
      ]
     },
     "execution_count": 195,
     "metadata": {},
     "output_type": "execute_result"
    }
   ],
   "source": [
    "[x*2 for x in arr]"
   ]
  },
  {
   "cell_type": "code",
   "execution_count": 187,
   "metadata": {},
   "outputs": [
    {
     "data": {
      "text/plain": [
       "{(-1, -1, 2), (-1, 0, 1)}"
      ]
     },
     "execution_count": 187,
     "metadata": {},
     "output_type": "execute_result"
    }
   ],
   "source": [
    "arr = [-1, 0, 1, 2, -1, -4]\n",
    "subsets = findsubsets(arr, 3) #all subsets of size 3 in original array\n",
    "solutions = [] #add to 0\n",
    "subsets_flat = []\n",
    "solutions_aslist = [] \n",
    "for sublist in subsets: #flatten list\n",
    "    for item in sublist:\n",
    "        subsets_flat.append(item)\n",
    "        \n",
    "\n",
    "for i in subsets: #\n",
    "    sorted_subset = np.sort(i)\n",
    "    #sorted_subset = i\n",
    "    if np.sum(sorted_subset) == 0:\n",
    "        solutions.append(list(sorted_subset))\n",
    "        \n",
    "        \n",
    "\n",
    "for i in solutions: #make items into list from ndarray\n",
    "    i = list(i)\n",
    "    solutions_aslist.append(i)\n",
    "    \n",
    "non_duplicates = set()\n",
    "\n",
    "for sols in solutions_aslist:\n",
    "    if tuple(sols) in non_duplicates:\n",
    "        pass\n",
    "    else:\n",
    "        non_duplicates.add(tuple(sols))\n",
    "non_duplicates"
   ]
  },
  {
   "cell_type": "code",
   "execution_count": 152,
   "metadata": {},
   "outputs": [
    {
     "data": {
      "text/plain": [
       "numpy.ndarray"
      ]
     },
     "execution_count": 152,
     "metadata": {},
     "output_type": "execute_result"
    }
   ],
   "source": [
    "type(solutions[0])"
   ]
  },
  {
   "cell_type": "code",
   "execution_count": 161,
   "metadata": {},
   "outputs": [
    {
     "data": {
      "text/plain": [
       "[[-1, 0, 1], [-1, -1, 2], [-1, 0, 1]]"
      ]
     },
     "execution_count": 161,
     "metadata": {},
     "output_type": "execute_result"
    }
   ],
   "source": [
    "solutions_aslist"
   ]
  },
  {
   "cell_type": "code",
   "execution_count": 163,
   "metadata": {},
   "outputs": [],
   "source": []
  },
  {
   "cell_type": "code",
   "execution_count": 178,
   "metadata": {},
   "outputs": [
    {
     "name": "stdout",
     "output_type": "stream",
     "text": [
      "{(-1, 0, 1)}\n"
     ]
    }
   ],
   "source": [
    "#routes = [[1, 2, 4, 6, 10], [1, 3, 8, 9, 10], [1, 2, 4, 6, 10]]\n",
    "routes = solutions_aslist\n",
    "dups = {tuple(x) for x in routes if routes.count(x)>1}\n",
    "\n",
    "print(dups)"
   ]
  },
  {
   "cell_type": "code",
   "execution_count": 181,
   "metadata": {},
   "outputs": [
    {
     "name": "stdout",
     "output_type": "stream",
     "text": [
      "[-1, 0, 1] is a duplicate route\n"
     ]
    }
   ],
   "source": []
  },
  {
   "cell_type": "code",
   "execution_count": 182,
   "metadata": {},
   "outputs": [
    {
     "data": {
      "text/plain": [
       "{(-1, -1, 2), (-1, 0, 1)}"
      ]
     },
     "execution_count": 182,
     "metadata": {},
     "output_type": "execute_result"
    }
   ],
   "source": [
    "dups"
   ]
  },
  {
   "cell_type": "code",
   "execution_count": 173,
   "metadata": {},
   "outputs": [
    {
     "data": {
      "text/plain": [
       "(-1, 0, 1)"
      ]
     },
     "execution_count": 173,
     "metadata": {},
     "output_type": "execute_result"
    }
   ],
   "source": [
    "list(dups)[0]"
   ]
  },
  {
   "cell_type": "code",
   "execution_count": 177,
   "metadata": {},
   "outputs": [
    {
     "data": {
      "text/plain": [
       "0"
      ]
     },
     "execution_count": 177,
     "metadata": {},
     "output_type": "execute_result"
    }
   ],
   "source": [
    "solutions_aslist.count(list(dups)[0])"
   ]
  },
  {
   "cell_type": "code",
   "execution_count": 172,
   "metadata": {},
   "outputs": [
    {
     "data": {
      "text/plain": [
       "False"
      ]
     },
     "execution_count": 172,
     "metadata": {},
     "output_type": "execute_result"
    }
   ],
   "source": [
    "list(dups)[0] in solutions_aslist"
   ]
  },
  {
   "cell_type": "code",
   "execution_count": 129,
   "metadata": {},
   "outputs": [
    {
     "name": "stdout",
     "output_type": "stream",
     "text": [
      "[-1  0  1] <class 'numpy.ndarray'>\n",
      "[-1 -1  2] <class 'numpy.ndarray'>\n",
      "[-1  0  1] <class 'numpy.ndarray'>\n"
     ]
    },
    {
     "data": {
      "text/plain": [
       "[array([-1,  0,  1]), array([-1, -1,  2]), array([-1,  0,  1])]"
      ]
     },
     "execution_count": 129,
     "metadata": {},
     "output_type": "execute_result"
    }
   ],
   "source": [
    "sorted_solutions = []\n",
    "for j in solutions:\n",
    "    j = np.sort(j)\n",
    "    sorted_solutions.append(j)\n",
    "    print(j, type(j))\n",
    "sorted_solutions"
   ]
  },
  {
   "cell_type": "code",
   "execution_count": 138,
   "metadata": {},
   "outputs": [
    {
     "name": "stdout",
     "output_type": "stream",
     "text": [
      "[-1, 0, 1]\n",
      "1\n",
      "[-1, -1, 2]\n",
      "1\n",
      "[-1, 0, 1]\n",
      "1\n"
     ]
    }
   ],
   "source": [
    "for e in sorted_solutions:\n",
    "    e = list(e)\n",
    "    print(e)\n",
    "    print(isSubset(sorted_solutions, e, len(sorted_solutions), len(e)))"
   ]
  },
  {
   "cell_type": "code",
   "execution_count": 111,
   "metadata": {},
   "outputs": [
    {
     "data": {
      "text/plain": [
       "array([-1,  0,  1])"
      ]
     },
     "execution_count": 111,
     "metadata": {},
     "output_type": "execute_result"
    }
   ],
   "source": [
    "solutions[0].flatten()"
   ]
  },
  {
   "cell_type": "code",
   "execution_count": 102,
   "metadata": {},
   "outputs": [
    {
     "name": "stdout",
     "output_type": "stream",
     "text": [
      "[-1  0  1]\n"
     ]
    }
   ],
   "source": [
    "for i in solutions:\n",
    "    print(i)"
   ]
  },
  {
   "cell_type": "code",
   "execution_count": 116,
   "metadata": {},
   "outputs": [
    {
     "data": {
      "text/plain": [
       "True"
      ]
     },
     "execution_count": 116,
     "metadata": {},
     "output_type": "execute_result"
    }
   ],
   "source": [
    "type(solutions[0]) == np.ndarray"
   ]
  },
  {
   "cell_type": "code",
   "execution_count": 120,
   "metadata": {},
   "outputs": [],
   "source": [
    "import itertools \n",
    "  \n",
    "def findsubsets(s, n): \n",
    "    return list(itertools.combinations(s, n)) \n",
    "\n",
    "def isSubset(a, b, m, n) : \n",
    "    #a is larger array, b is subset array, m is length of a, n is length of b\n",
    "    #returns 1 if not a subset, 0 if it is a subset\n",
    "    # map to store the values of array a  \n",
    "    mp1 = {} \n",
    "    for i in range(m): \n",
    "        if type(a[i]) == np.ndarray:\n",
    "            q = a[i].flatten\n",
    "            if q not in mp1:\n",
    "                mp1[q] = 0\n",
    "            mp1[q] += 1\n",
    "        elif a[i] not in mp1: \n",
    "            mp1[a[i]] = 0\n",
    "            mp1[a[i]] += 1\n",
    "      \n",
    "    # flag value  \n",
    "    f = 0\n",
    "    for i in range(n): \n",
    "          \n",
    "        # if b[i] is not present in map  \n",
    "        # then array b can not be a  \n",
    "        # subset of array a  \n",
    "        if b[i] not in mp1: \n",
    "            f = 1\n",
    "            break\n",
    "          \n",
    "        # if if b[i] is present in map  \n",
    "        # decrement by one  \n",
    "        #1 is not in main array, 0 IS in main array\n",
    "        else : \n",
    "            mp1[b[i]] -= 1\n",
    "              \n",
    "            if (mp1[b[i]] == 0): \n",
    "                mp1.pop(b[i]) \n",
    "    return f  \n",
    "      "
   ]
  },
  {
   "cell_type": "code",
   "execution_count": 118,
   "metadata": {},
   "outputs": [
    {
     "name": "stdout",
     "output_type": "stream",
     "text": [
      "arr2[] is subset of arr1[] \n"
     ]
    }
   ],
   "source": [
    "# Driver code  \n",
    "arr1 = subsets_flat\n",
    "arr2 = np.sort(list(subset[0]))\n",
    "  \n",
    "m = len(arr1)  \n",
    "n = len(arr2) \n",
    "  \n",
    "if (not isSubset(arr1, arr2, m, n)): \n",
    "    print(\"arr2[] is subset of arr1[] \") \n",
    "else: \n",
    "    print(\"arr2[] is not a subset of arr1[]\") "
   ]
  },
  {
   "cell_type": "code",
   "execution_count": 71,
   "metadata": {},
   "outputs": [
    {
     "name": "stdout",
     "output_type": "stream",
     "text": [
      "<class 'list'>\n"
     ]
    }
   ],
   "source": [
    "print(type(arr1))"
   ]
  },
  {
   "cell_type": "code",
   "execution_count": 67,
   "metadata": {},
   "outputs": [
    {
     "data": {
      "text/plain": [
       "[(-1, 0, 1),\n",
       " (-1, 0, 2),\n",
       " (-1, 0, -1),\n",
       " (-1, 0, -4),\n",
       " (-1, 1, 2),\n",
       " (-1, 1, -1),\n",
       " (-1, 1, -4),\n",
       " (-1, 2, -1),\n",
       " (-1, 2, -4),\n",
       " (-1, -1, -4),\n",
       " (0, 1, 2),\n",
       " (0, 1, -1),\n",
       " (0, 1, -4),\n",
       " (0, 2, -1),\n",
       " (0, 2, -4),\n",
       " (0, -1, -4),\n",
       " (1, 2, -1),\n",
       " (1, 2, -4),\n",
       " (1, -1, -4),\n",
       " (2, -1, -4)]"
      ]
     },
     "execution_count": 67,
     "metadata": {},
     "output_type": "execute_result"
    }
   ],
   "source": [
    "subset"
   ]
  },
  {
   "cell_type": "code",
   "execution_count": 65,
   "metadata": {},
   "outputs": [
    {
     "data": {
      "text/plain": [
       "list"
      ]
     },
     "execution_count": 65,
     "metadata": {},
     "output_type": "execute_result"
    }
   ],
   "source": [
    "type(list(subset[0]))"
   ]
  },
  {
   "cell_type": "code",
   "execution_count": 59,
   "metadata": {},
   "outputs": [
    {
     "data": {
      "text/plain": [
       "1"
      ]
     },
     "execution_count": 59,
     "metadata": {},
     "output_type": "execute_result"
    }
   ],
   "source": [
    "subset = findsubsets(arr, 3)\n",
    "isSubset(subset, subset[0], len(subset), len(subset[0]))"
   ]
  },
  {
   "cell_type": "code",
   "execution_count": null,
   "metadata": {},
   "outputs": [],
   "source": [
    "su"
   ]
  },
  {
   "cell_type": "code",
   "execution_count": null,
   "metadata": {},
   "outputs": [],
   "source": [
    "testing = {}\n",
    "for i in findsubsets(arr, 3):\n",
    "    testing.append"
   ]
  },
  {
   "cell_type": "code",
   "execution_count": 50,
   "metadata": {},
   "outputs": [
    {
     "data": {
      "text/plain": [
       "[(-1, 0, 1),\n",
       " (-1, 0, 2),\n",
       " (-1, 0, -1),\n",
       " (-1, 0, -4),\n",
       " (-1, 1, 2),\n",
       " (-1, 1, -1),\n",
       " (-1, 1, -4),\n",
       " (-1, 2, -1),\n",
       " (-1, 2, -4),\n",
       " (-1, -1, -4),\n",
       " (0, 1, 2),\n",
       " (0, 1, -1),\n",
       " (0, 1, -4),\n",
       " (0, 2, -1),\n",
       " (0, 2, -4),\n",
       " (0, -1, -4),\n",
       " (1, 2, -1),\n",
       " (1, 2, -4),\n",
       " (1, -1, -4),\n",
       " (2, -1, -4)]"
      ]
     },
     "execution_count": 50,
     "metadata": {},
     "output_type": "execute_result"
    }
   ],
   "source": [
    "findsubsets(arr, 3)"
   ]
  },
  {
   "cell_type": "code",
   "execution_count": 6,
   "metadata": {},
   "outputs": [],
   "source": [
    "\n",
    "temp_sum = 0\n",
    "start_count = []\n",
    "sol_set = []\n",
    "num_holder = []\n",
    "for i in range(len(arr)):\n",
    "    temp_sum += arr[i]\n",
    "    start_count.append(i)\n",
    "    num_holder.append(arr[i])\n",
    "    if temp_sum == 0:\n",
    "        temp_sum = 0\n",
    "        sol_set.append(num_holder)\n",
    "        num_holder = []\n",
    "        start_count = []\n",
    "    #if len(start_count)"
   ]
  },
  {
   "cell_type": "code",
   "execution_count": null,
   "metadata": {},
   "outputs": [],
   "source": [
    "#make a copy of the array that will have deleted elements\n",
    "#start at i: then run through the list until "
   ]
  },
  {
   "cell_type": "code",
   "execution_count": 7,
   "metadata": {},
   "outputs": [
    {
     "data": {
      "text/plain": [
       "[[-1, 0, 1]]"
      ]
     },
     "execution_count": 7,
     "metadata": {},
     "output_type": "execute_result"
    }
   ],
   "source": [
    "sol_set"
   ]
  }
 ],
 "metadata": {
  "kernelspec": {
   "display_name": "Python 3",
   "language": "python",
   "name": "python3"
  },
  "language_info": {
   "codemirror_mode": {
    "name": "ipython",
    "version": 3
   },
   "file_extension": ".py",
   "mimetype": "text/x-python",
   "name": "python",
   "nbconvert_exporter": "python",
   "pygments_lexer": "ipython3",
   "version": "3.8.1"
  }
 },
 "nbformat": 4,
 "nbformat_minor": 4
}
