{
  "nbformat": 4,
  "nbformat_minor": 0,
  "metadata": {
    "colab": {
      "name": "13FReader.ipynb",
      "provenance": [],
      "collapsed_sections": []
    },
    "kernelspec": {
      "name": "python3",
      "display_name": "Python 3"
    }
  },
  "cells": [
    {
      "cell_type": "code",
      "metadata": {
        "id": "9KR9Mb7bQkEe"
      },
      "source": [
        "import numpy as np\n",
        "import pandas as pd\n"
      ],
      "execution_count": null,
      "outputs": []
    },
    {
      "cell_type": "code",
      "metadata": {
        "id": "E2iVaXjZBOF7"
      },
      "source": [
        "test = pd.read_html('https://www.sec.gov/Archives/edgar/data/1067983/000095012321002786/xslForm13F_X01/0000950123-21-002786-3286.xml', skiprows = 4)"
      ],
      "execution_count": null,
      "outputs": []
    },
    {
      "cell_type": "code",
      "metadata": {
        "id": "A-FEZZfhCFgl"
      },
      "source": [
        "BKR = pd.read_html('https://www.sec.gov/Archives/edgar/data/1067983/000095012321002786/xslForm13F_X01/0000950123-21-002786-3286.xml', skiprows = 2)\n",
        "BKR = BKR[1]\n",
        "BKR.columns = BKR.iloc[0]\n",
        "BKR = BKR[1:]\n",
        "BKR.reset_index(drop = True, inplace = True)"
      ],
      "execution_count": null,
      "outputs": []
    },
    {
      "cell_type": "code",
      "metadata": {
        "id": "qFjqyOloDKzj"
      },
      "source": [
        "BKR_old = pd.read_html('https://www.sec.gov/Archives/edgar/data/1067983/000095012320012127/xslForm13F_X01/0000950123-20-012127-1653.xml', skiprows = 2)\n",
        "BKR_old = BKR_old[1]\n",
        "BKR_old.columns = BKR_old.iloc[0]\n",
        "BKR_old = BKR_old[1:]\n",
        "BKR_old.reset_index(drop = True, inplace = True)"
      ],
      "execution_count": null,
      "outputs": []
    },
    {
      "cell_type": "code",
      "metadata": {
        "colab": {
          "base_uri": "https://localhost:8080/",
          "height": 35
        },
        "id": "wLqhS49hErhM",
        "outputId": "15e8b0b9-068d-4092-cda4-57a82c33a44e"
      },
      "source": [
        "BKR['CUSIP'][0]"
      ],
      "execution_count": null,
      "outputs": [
        {
          "output_type": "execute_result",
          "data": {
            "application/vnd.google.colaboratory.intrinsic+json": {
              "type": "string"
            },
            "text/plain": [
              "'00287Y109'"
            ]
          },
          "metadata": {
            "tags": []
          },
          "execution_count": 61
        }
      ]
    },
    {
      "cell_type": "code",
      "metadata": {
        "colab": {
          "base_uri": "https://localhost:8080/",
          "height": 77
        },
        "id": "Q4A2iI85Ew9i",
        "outputId": "3b45b844-ce1a-4055-f0c4-afa07063b9d6"
      },
      "source": [
        "BKR[BKR['CUSIP'] == BKR['CUSIP'][0]]"
      ],
      "execution_count": null,
      "outputs": [
        {
          "output_type": "execute_result",
          "data": {
            "text/html": [
              "<div>\n",
              "<style scoped>\n",
              "    .dataframe tbody tr th:only-of-type {\n",
              "        vertical-align: middle;\n",
              "    }\n",
              "\n",
              "    .dataframe tbody tr th {\n",
              "        vertical-align: top;\n",
              "    }\n",
              "\n",
              "    .dataframe thead th {\n",
              "        text-align: right;\n",
              "    }\n",
              "</style>\n",
              "<table border=\"1\" class=\"dataframe\">\n",
              "  <thead>\n",
              "    <tr style=\"text-align: right;\">\n",
              "      <th></th>\n",
              "      <th>NAME OF ISSUER</th>\n",
              "      <th>TITLE OF CLASS</th>\n",
              "      <th>CUSIP</th>\n",
              "      <th>(x$1000)</th>\n",
              "      <th>PRN AMT</th>\n",
              "      <th>PRN</th>\n",
              "      <th>CALL</th>\n",
              "      <th>DISCRETION</th>\n",
              "      <th>MANAGER</th>\n",
              "      <th>SOLE</th>\n",
              "      <th>SHARED</th>\n",
              "      <th>NONE</th>\n",
              "    </tr>\n",
              "  </thead>\n",
              "  <tbody>\n",
              "    <tr>\n",
              "      <th>0</th>\n",
              "      <td>ABBVIE INC</td>\n",
              "      <td>COM</td>\n",
              "      <td>00287Y109</td>\n",
              "      <td>2735870</td>\n",
              "      <td>25533082</td>\n",
              "      <td>SH</td>\n",
              "      <td>NaN</td>\n",
              "      <td>DFND</td>\n",
              "      <td>411</td>\n",
              "      <td>25533082</td>\n",
              "      <td>0</td>\n",
              "      <td>0</td>\n",
              "    </tr>\n",
              "  </tbody>\n",
              "</table>\n",
              "</div>"
            ],
            "text/plain": [
              "0 NAME OF ISSUER TITLE OF CLASS      CUSIP  ...      SOLE SHARED NONE\n",
              "0     ABBVIE INC            COM  00287Y109  ...  25533082      0    0\n",
              "\n",
              "[1 rows x 12 columns]"
            ]
          },
          "metadata": {
            "tags": []
          },
          "execution_count": 62
        }
      ]
    },
    {
      "cell_type": "code",
      "metadata": {
        "id": "WEbRjTuTE_PM"
      },
      "source": [
        "test = pd.concat([BKR, BKR_old], axis = 1)"
      ],
      "execution_count": null,
      "outputs": []
    },
    {
      "cell_type": "code",
      "metadata": {
        "colab": {
          "base_uri": "https://localhost:8080/",
          "height": 825
        },
        "id": "Jd0dQaUbFM0y",
        "outputId": "64dcc146-584e-4f50-ae9a-a2a6a4dec601"
      },
      "source": [
        "test"
      ],
      "execution_count": null,
      "outputs": [
        {
          "output_type": "execute_result",
          "data": {
            "text/html": [
              "<div>\n",
              "<style scoped>\n",
              "    .dataframe tbody tr th:only-of-type {\n",
              "        vertical-align: middle;\n",
              "    }\n",
              "\n",
              "    .dataframe tbody tr th {\n",
              "        vertical-align: top;\n",
              "    }\n",
              "\n",
              "    .dataframe thead th {\n",
              "        text-align: right;\n",
              "    }\n",
              "</style>\n",
              "<table border=\"1\" class=\"dataframe\">\n",
              "  <thead>\n",
              "    <tr style=\"text-align: right;\">\n",
              "      <th></th>\n",
              "      <th>NAME OF ISSUER</th>\n",
              "      <th>TITLE OF CLASS</th>\n",
              "      <th>CUSIP</th>\n",
              "      <th>(x$1000)</th>\n",
              "      <th>PRN AMT</th>\n",
              "      <th>PRN</th>\n",
              "      <th>CALL</th>\n",
              "      <th>DISCRETION</th>\n",
              "      <th>MANAGER</th>\n",
              "      <th>SOLE</th>\n",
              "      <th>SHARED</th>\n",
              "      <th>NONE</th>\n",
              "      <th>NAME OF ISSUER</th>\n",
              "      <th>TITLE OF CLASS</th>\n",
              "      <th>CUSIP</th>\n",
              "      <th>(x$1000)</th>\n",
              "      <th>PRN AMT</th>\n",
              "      <th>PRN</th>\n",
              "      <th>CALL</th>\n",
              "      <th>DISCRETION</th>\n",
              "      <th>MANAGER</th>\n",
              "      <th>SOLE</th>\n",
              "      <th>SHARED</th>\n",
              "      <th>NONE</th>\n",
              "    </tr>\n",
              "  </thead>\n",
              "  <tbody>\n",
              "    <tr>\n",
              "      <th>0</th>\n",
              "      <td>ABBVIE INC</td>\n",
              "      <td>COM</td>\n",
              "      <td>00287Y109</td>\n",
              "      <td>2735870</td>\n",
              "      <td>25533082</td>\n",
              "      <td>SH</td>\n",
              "      <td>NaN</td>\n",
              "      <td>DFND</td>\n",
              "      <td>411</td>\n",
              "      <td>25533082</td>\n",
              "      <td>0</td>\n",
              "      <td>0</td>\n",
              "      <td>ABBVIE INC</td>\n",
              "      <td>COM</td>\n",
              "      <td>00287Y109</td>\n",
              "      <td>1862541</td>\n",
              "      <td>21264316</td>\n",
              "      <td>SH</td>\n",
              "      <td>NaN</td>\n",
              "      <td>DFND</td>\n",
              "      <td>411</td>\n",
              "      <td>21264316</td>\n",
              "      <td>0</td>\n",
              "      <td>0</td>\n",
              "    </tr>\n",
              "    <tr>\n",
              "      <th>1</th>\n",
              "      <td>AMAZON COM INC</td>\n",
              "      <td>COM</td>\n",
              "      <td>023135106</td>\n",
              "      <td>1366282</td>\n",
              "      <td>419500</td>\n",
              "      <td>SH</td>\n",
              "      <td>NaN</td>\n",
              "      <td>DFND</td>\n",
              "      <td>4</td>\n",
              "      <td>419500</td>\n",
              "      <td>0</td>\n",
              "      <td>0</td>\n",
              "      <td>AMAZON COM INC</td>\n",
              "      <td>COM</td>\n",
              "      <td>023135106</td>\n",
              "      <td>1320892</td>\n",
              "      <td>419500</td>\n",
              "      <td>SH</td>\n",
              "      <td>NaN</td>\n",
              "      <td>DFND</td>\n",
              "      <td>4</td>\n",
              "      <td>419500</td>\n",
              "      <td>0</td>\n",
              "      <td>0</td>\n",
              "    </tr>\n",
              "    <tr>\n",
              "      <th>2</th>\n",
              "      <td>AMAZON COM INC</td>\n",
              "      <td>COM</td>\n",
              "      <td>023135106</td>\n",
              "      <td>370639</td>\n",
              "      <td>113800</td>\n",
              "      <td>SH</td>\n",
              "      <td>NaN</td>\n",
              "      <td>DFND</td>\n",
              "      <td>4811</td>\n",
              "      <td>113800</td>\n",
              "      <td>0</td>\n",
              "      <td>0</td>\n",
              "      <td>AMAZON COM INC</td>\n",
              "      <td>COM</td>\n",
              "      <td>023135106</td>\n",
              "      <td>358325</td>\n",
              "      <td>113800</td>\n",
              "      <td>SH</td>\n",
              "      <td>NaN</td>\n",
              "      <td>DFND</td>\n",
              "      <td>4811</td>\n",
              "      <td>113800</td>\n",
              "      <td>0</td>\n",
              "      <td>0</td>\n",
              "    </tr>\n",
              "    <tr>\n",
              "      <th>3</th>\n",
              "      <td>AMERICAN EXPRESS CO</td>\n",
              "      <td>COM</td>\n",
              "      <td>025816109</td>\n",
              "      <td>236033</td>\n",
              "      <td>1952142</td>\n",
              "      <td>SH</td>\n",
              "      <td>NaN</td>\n",
              "      <td>DFND</td>\n",
              "      <td>4</td>\n",
              "      <td>1952142</td>\n",
              "      <td>0</td>\n",
              "      <td>0</td>\n",
              "      <td>AMERICAN EXPRESS CO</td>\n",
              "      <td>COM</td>\n",
              "      <td>025816109</td>\n",
              "      <td>195702</td>\n",
              "      <td>1952142</td>\n",
              "      <td>SH</td>\n",
              "      <td>NaN</td>\n",
              "      <td>DFND</td>\n",
              "      <td>4</td>\n",
              "      <td>1952142</td>\n",
              "      <td>0</td>\n",
              "      <td>0</td>\n",
              "    </tr>\n",
              "    <tr>\n",
              "      <th>4</th>\n",
              "      <td>AMERICAN EXPRESS CO</td>\n",
              "      <td>COM</td>\n",
              "      <td>025816109</td>\n",
              "      <td>20304</td>\n",
              "      <td>167926</td>\n",
              "      <td>SH</td>\n",
              "      <td>NaN</td>\n",
              "      <td>DFND</td>\n",
              "      <td>12411</td>\n",
              "      <td>167926</td>\n",
              "      <td>0</td>\n",
              "      <td>0</td>\n",
              "      <td>AMERICAN EXPRESS CO</td>\n",
              "      <td>COM</td>\n",
              "      <td>025816109</td>\n",
              "      <td>1726846</td>\n",
              "      <td>17225400</td>\n",
              "      <td>SH</td>\n",
              "      <td>NaN</td>\n",
              "      <td>DFND</td>\n",
              "      <td>45</td>\n",
              "      <td>17225400</td>\n",
              "      <td>0</td>\n",
              "      <td>0</td>\n",
              "    </tr>\n",
              "    <tr>\n",
              "      <th>...</th>\n",
              "      <td>...</td>\n",
              "      <td>...</td>\n",
              "      <td>...</td>\n",
              "      <td>...</td>\n",
              "      <td>...</td>\n",
              "      <td>...</td>\n",
              "      <td>...</td>\n",
              "      <td>...</td>\n",
              "      <td>...</td>\n",
              "      <td>...</td>\n",
              "      <td>...</td>\n",
              "      <td>...</td>\n",
              "      <td>...</td>\n",
              "      <td>...</td>\n",
              "      <td>...</td>\n",
              "      <td>...</td>\n",
              "      <td>...</td>\n",
              "      <td>...</td>\n",
              "      <td>...</td>\n",
              "      <td>...</td>\n",
              "      <td>...</td>\n",
              "      <td>...</td>\n",
              "      <td>...</td>\n",
              "      <td>...</td>\n",
              "    </tr>\n",
              "    <tr>\n",
              "      <th>140</th>\n",
              "      <td>LIBERTY LATIN AMERICA LTD</td>\n",
              "      <td>COM CL C</td>\n",
              "      <td>G9001E128</td>\n",
              "      <td>14240</td>\n",
              "      <td>1284020</td>\n",
              "      <td>SH</td>\n",
              "      <td>NaN</td>\n",
              "      <td>DFND</td>\n",
              "      <td>4811</td>\n",
              "      <td>1284020</td>\n",
              "      <td>0</td>\n",
              "      <td>0</td>\n",
              "      <td>STONECO LTD</td>\n",
              "      <td>COM CL A</td>\n",
              "      <td>G85158106</td>\n",
              "      <td>749279</td>\n",
              "      <td>14166748</td>\n",
              "      <td>SH</td>\n",
              "      <td>NaN</td>\n",
              "      <td>DFND</td>\n",
              "      <td>411</td>\n",
              "      <td>14166748</td>\n",
              "      <td>0</td>\n",
              "      <td>0</td>\n",
              "    </tr>\n",
              "    <tr>\n",
              "      <th>141</th>\n",
              "      <td>NaN</td>\n",
              "      <td>NaN</td>\n",
              "      <td>NaN</td>\n",
              "      <td>NaN</td>\n",
              "      <td>NaN</td>\n",
              "      <td>NaN</td>\n",
              "      <td>NaN</td>\n",
              "      <td>NaN</td>\n",
              "      <td>NaN</td>\n",
              "      <td>NaN</td>\n",
              "      <td>NaN</td>\n",
              "      <td>NaN</td>\n",
              "      <td>LIBERTY LATIN AMERICA LTD</td>\n",
              "      <td>COM CL A</td>\n",
              "      <td>G9001E102</td>\n",
              "      <td>8296</td>\n",
              "      <td>1005607</td>\n",
              "      <td>SH</td>\n",
              "      <td>NaN</td>\n",
              "      <td>DFND</td>\n",
              "      <td>4</td>\n",
              "      <td>1005607</td>\n",
              "      <td>0</td>\n",
              "      <td>0</td>\n",
              "    </tr>\n",
              "    <tr>\n",
              "      <th>142</th>\n",
              "      <td>NaN</td>\n",
              "      <td>NaN</td>\n",
              "      <td>NaN</td>\n",
              "      <td>NaN</td>\n",
              "      <td>NaN</td>\n",
              "      <td>NaN</td>\n",
              "      <td>NaN</td>\n",
              "      <td>NaN</td>\n",
              "      <td>NaN</td>\n",
              "      <td>NaN</td>\n",
              "      <td>NaN</td>\n",
              "      <td>NaN</td>\n",
              "      <td>LIBERTY LATIN AMERICA LTD</td>\n",
              "      <td>COM CL A</td>\n",
              "      <td>G9001E102</td>\n",
              "      <td>13408</td>\n",
              "      <td>1625185</td>\n",
              "      <td>SH</td>\n",
              "      <td>NaN</td>\n",
              "      <td>DFND</td>\n",
              "      <td>4811</td>\n",
              "      <td>1625185</td>\n",
              "      <td>0</td>\n",
              "      <td>0</td>\n",
              "    </tr>\n",
              "    <tr>\n",
              "      <th>143</th>\n",
              "      <td>NaN</td>\n",
              "      <td>NaN</td>\n",
              "      <td>NaN</td>\n",
              "      <td>NaN</td>\n",
              "      <td>NaN</td>\n",
              "      <td>NaN</td>\n",
              "      <td>NaN</td>\n",
              "      <td>NaN</td>\n",
              "      <td>NaN</td>\n",
              "      <td>NaN</td>\n",
              "      <td>NaN</td>\n",
              "      <td>NaN</td>\n",
              "      <td>LIBERTY LATIN AMERICA LTD</td>\n",
              "      <td>COM CL C</td>\n",
              "      <td>G9001E128</td>\n",
              "      <td>1190</td>\n",
              "      <td>146177</td>\n",
              "      <td>SH</td>\n",
              "      <td>NaN</td>\n",
              "      <td>DFND</td>\n",
              "      <td>4</td>\n",
              "      <td>146177</td>\n",
              "      <td>0</td>\n",
              "      <td>0</td>\n",
              "    </tr>\n",
              "    <tr>\n",
              "      <th>144</th>\n",
              "      <td>NaN</td>\n",
              "      <td>NaN</td>\n",
              "      <td>NaN</td>\n",
              "      <td>NaN</td>\n",
              "      <td>NaN</td>\n",
              "      <td>NaN</td>\n",
              "      <td>NaN</td>\n",
              "      <td>NaN</td>\n",
              "      <td>NaN</td>\n",
              "      <td>NaN</td>\n",
              "      <td>NaN</td>\n",
              "      <td>NaN</td>\n",
              "      <td>LIBERTY LATIN AMERICA LTD</td>\n",
              "      <td>COM CL C</td>\n",
              "      <td>G9001E128</td>\n",
              "      <td>10452</td>\n",
              "      <td>1284020</td>\n",
              "      <td>SH</td>\n",
              "      <td>NaN</td>\n",
              "      <td>DFND</td>\n",
              "      <td>4811</td>\n",
              "      <td>1284020</td>\n",
              "      <td>0</td>\n",
              "      <td>0</td>\n",
              "    </tr>\n",
              "  </tbody>\n",
              "</table>\n",
              "<p>145 rows × 24 columns</p>\n",
              "</div>"
            ],
            "text/plain": [
              "0               NAME OF ISSUER TITLE OF CLASS      CUSIP  ...      SOLE SHARED NONE\n",
              "0                   ABBVIE INC            COM  00287Y109  ...  21264316      0    0\n",
              "1               AMAZON COM INC            COM  023135106  ...    419500      0    0\n",
              "2               AMAZON COM INC            COM  023135106  ...    113800      0    0\n",
              "3          AMERICAN EXPRESS CO            COM  025816109  ...   1952142      0    0\n",
              "4          AMERICAN EXPRESS CO            COM  025816109  ...  17225400      0    0\n",
              "..                         ...            ...        ...  ...       ...    ...  ...\n",
              "140  LIBERTY LATIN AMERICA LTD       COM CL C  G9001E128  ...  14166748      0    0\n",
              "141                        NaN            NaN        NaN  ...   1005607      0    0\n",
              "142                        NaN            NaN        NaN  ...   1625185      0    0\n",
              "143                        NaN            NaN        NaN  ...    146177      0    0\n",
              "144                        NaN            NaN        NaN  ...   1284020      0    0\n",
              "\n",
              "[145 rows x 24 columns]"
            ]
          },
          "metadata": {
            "tags": []
          },
          "execution_count": 68
        }
      ]
    },
    {
      "cell_type": "code",
      "metadata": {
        "colab": {
          "base_uri": "https://localhost:8080/",
          "height": 303
        },
        "id": "pTSh8wWpEIWM",
        "outputId": "50e25d39-4fe7-4b95-cacb-b0967f25acf1"
      },
      "source": [
        "BKR['NAME OF ISSUER'][BKR_old['NAME OF ISSUER'][0]]"
      ],
      "execution_count": null,
      "outputs": [
        {
          "output_type": "error",
          "ename": "KeyError",
          "evalue": "ignored",
          "traceback": [
            "\u001b[0;31m---------------------------------------------------------------------------\u001b[0m",
            "\u001b[0;31mKeyError\u001b[0m                                  Traceback (most recent call last)",
            "\u001b[0;32m<ipython-input-59-24851ab2bc82>\u001b[0m in \u001b[0;36m<module>\u001b[0;34m()\u001b[0m\n\u001b[0;32m----> 1\u001b[0;31m \u001b[0mBKR\u001b[0m\u001b[0;34m[\u001b[0m\u001b[0;34m'NAME OF ISSUER'\u001b[0m\u001b[0;34m]\u001b[0m\u001b[0;34m[\u001b[0m\u001b[0mBKR_old\u001b[0m\u001b[0;34m[\u001b[0m\u001b[0;34m'NAME OF ISSUER'\u001b[0m\u001b[0;34m]\u001b[0m\u001b[0;34m[\u001b[0m\u001b[0;36m0\u001b[0m\u001b[0;34m]\u001b[0m\u001b[0;34m]\u001b[0m\u001b[0;34m\u001b[0m\u001b[0;34m\u001b[0m\u001b[0m\n\u001b[0m",
            "\u001b[0;32m/usr/local/lib/python3.7/dist-packages/pandas/core/series.py\u001b[0m in \u001b[0;36m__getitem__\u001b[0;34m(self, key)\u001b[0m\n\u001b[1;32m    880\u001b[0m \u001b[0;34m\u001b[0m\u001b[0m\n\u001b[1;32m    881\u001b[0m         \u001b[0;32melif\u001b[0m \u001b[0mkey_is_scalar\u001b[0m\u001b[0;34m:\u001b[0m\u001b[0;34m\u001b[0m\u001b[0;34m\u001b[0m\u001b[0m\n\u001b[0;32m--> 882\u001b[0;31m             \u001b[0;32mreturn\u001b[0m \u001b[0mself\u001b[0m\u001b[0;34m.\u001b[0m\u001b[0m_get_value\u001b[0m\u001b[0;34m(\u001b[0m\u001b[0mkey\u001b[0m\u001b[0;34m)\u001b[0m\u001b[0;34m\u001b[0m\u001b[0;34m\u001b[0m\u001b[0m\n\u001b[0m\u001b[1;32m    883\u001b[0m \u001b[0;34m\u001b[0m\u001b[0m\n\u001b[1;32m    884\u001b[0m         \u001b[0;32mif\u001b[0m \u001b[0mis_hashable\u001b[0m\u001b[0;34m(\u001b[0m\u001b[0mkey\u001b[0m\u001b[0;34m)\u001b[0m\u001b[0;34m:\u001b[0m\u001b[0;34m\u001b[0m\u001b[0;34m\u001b[0m\u001b[0m\n",
            "\u001b[0;32m/usr/local/lib/python3.7/dist-packages/pandas/core/series.py\u001b[0m in \u001b[0;36m_get_value\u001b[0;34m(self, label, takeable)\u001b[0m\n\u001b[1;32m    988\u001b[0m \u001b[0;34m\u001b[0m\u001b[0m\n\u001b[1;32m    989\u001b[0m         \u001b[0;31m# Similar to Index.get_value, but we do not fall back to positional\u001b[0m\u001b[0;34m\u001b[0m\u001b[0;34m\u001b[0m\u001b[0;34m\u001b[0m\u001b[0m\n\u001b[0;32m--> 990\u001b[0;31m         \u001b[0mloc\u001b[0m \u001b[0;34m=\u001b[0m \u001b[0mself\u001b[0m\u001b[0;34m.\u001b[0m\u001b[0mindex\u001b[0m\u001b[0;34m.\u001b[0m\u001b[0mget_loc\u001b[0m\u001b[0;34m(\u001b[0m\u001b[0mlabel\u001b[0m\u001b[0;34m)\u001b[0m\u001b[0;34m\u001b[0m\u001b[0;34m\u001b[0m\u001b[0m\n\u001b[0m\u001b[1;32m    991\u001b[0m         \u001b[0;32mreturn\u001b[0m \u001b[0mself\u001b[0m\u001b[0;34m.\u001b[0m\u001b[0mindex\u001b[0m\u001b[0;34m.\u001b[0m\u001b[0m_get_values_for_loc\u001b[0m\u001b[0;34m(\u001b[0m\u001b[0mself\u001b[0m\u001b[0;34m,\u001b[0m \u001b[0mloc\u001b[0m\u001b[0;34m,\u001b[0m \u001b[0mlabel\u001b[0m\u001b[0;34m)\u001b[0m\u001b[0;34m\u001b[0m\u001b[0;34m\u001b[0m\u001b[0m\n\u001b[1;32m    992\u001b[0m \u001b[0;34m\u001b[0m\u001b[0m\n",
            "\u001b[0;32m/usr/local/lib/python3.7/dist-packages/pandas/core/indexes/range.py\u001b[0m in \u001b[0;36mget_loc\u001b[0;34m(self, key, method, tolerance)\u001b[0m\n\u001b[1;32m    356\u001b[0m                 \u001b[0;32mexcept\u001b[0m \u001b[0mValueError\u001b[0m \u001b[0;32mas\u001b[0m \u001b[0merr\u001b[0m\u001b[0;34m:\u001b[0m\u001b[0;34m\u001b[0m\u001b[0;34m\u001b[0m\u001b[0m\n\u001b[1;32m    357\u001b[0m                     \u001b[0;32mraise\u001b[0m \u001b[0mKeyError\u001b[0m\u001b[0;34m(\u001b[0m\u001b[0mkey\u001b[0m\u001b[0;34m)\u001b[0m \u001b[0;32mfrom\u001b[0m \u001b[0merr\u001b[0m\u001b[0;34m\u001b[0m\u001b[0;34m\u001b[0m\u001b[0m\n\u001b[0;32m--> 358\u001b[0;31m             \u001b[0;32mraise\u001b[0m \u001b[0mKeyError\u001b[0m\u001b[0;34m(\u001b[0m\u001b[0mkey\u001b[0m\u001b[0;34m)\u001b[0m\u001b[0;34m\u001b[0m\u001b[0;34m\u001b[0m\u001b[0m\n\u001b[0m\u001b[1;32m    359\u001b[0m         \u001b[0;32mreturn\u001b[0m \u001b[0msuper\u001b[0m\u001b[0;34m(\u001b[0m\u001b[0;34m)\u001b[0m\u001b[0;34m.\u001b[0m\u001b[0mget_loc\u001b[0m\u001b[0;34m(\u001b[0m\u001b[0mkey\u001b[0m\u001b[0;34m,\u001b[0m \u001b[0mmethod\u001b[0m\u001b[0;34m=\u001b[0m\u001b[0mmethod\u001b[0m\u001b[0;34m,\u001b[0m \u001b[0mtolerance\u001b[0m\u001b[0;34m=\u001b[0m\u001b[0mtolerance\u001b[0m\u001b[0;34m)\u001b[0m\u001b[0;34m\u001b[0m\u001b[0;34m\u001b[0m\u001b[0m\n\u001b[1;32m    360\u001b[0m \u001b[0;34m\u001b[0m\u001b[0m\n",
            "\u001b[0;31mKeyError\u001b[0m: 'ABBVIE INC'"
          ]
        }
      ]
    },
    {
      "cell_type": "code",
      "metadata": {
        "colab": {
          "base_uri": "https://localhost:8080/"
        },
        "id": "iXs1OtlABR5r",
        "outputId": "8cbee613-bf7a-4cff-b6dd-1c55fd650ea7"
      },
      "source": [
        "test"
      ],
      "execution_count": null,
      "outputs": [
        {
          "output_type": "execute_result",
          "data": {
            "text/plain": [
              "[                            0         1          2   ...        9   10 11\n",
              " 0               AMAZON COM INC       COM  023135106  ...    419500   0  0\n",
              " 1               AMAZON COM INC       COM  023135106  ...    113800   0  0\n",
              " 2          AMERICAN EXPRESS CO       COM  025816109  ...   1952142   0  0\n",
              " 3          AMERICAN EXPRESS CO       COM  025816109  ...    167926   0  0\n",
              " 4          AMERICAN EXPRESS CO       COM  025816109  ...  17225400   0  0\n",
              " ..                         ...       ...        ...  ...       ...  .. ..\n",
              " 135         LIBERTY GLOBAL PLC  SHS CL C  G5480U120  ...   7346968   0  0\n",
              " 136                STONECO LTD  COM CL A  G85158106  ...  14166748   0  0\n",
              " 137  LIBERTY LATIN AMERICA LTD  COM CL A  G9001E102  ...   1005607   0  0\n",
              " 138  LIBERTY LATIN AMERICA LTD  COM CL A  G9001E102  ...   1625185   0  0\n",
              " 139  LIBERTY LATIN AMERICA LTD  COM CL C  G9001E128  ...   1284020   0  0\n",
              " \n",
              " [140 rows x 12 columns]]"
            ]
          },
          "metadata": {
            "tags": []
          },
          "execution_count": 24
        }
      ]
    },
    {
      "cell_type": "code",
      "metadata": {
        "colab": {
          "base_uri": "https://localhost:8080/",
          "height": 229
        },
        "id": "forKX0-6RbcY",
        "outputId": "a632a23c-7858-4cb2-b2a7-af603f2c6cd3"
      },
      "source": [
        "f = open(r\"/content/BKR.txt\", \"r\")\n",
        "q = f.read()\n",
        "\n",
        "#f = open(r\"/content/new.txt\", \"r\")\n",
        "#l = f.read()"
      ],
      "execution_count": null,
      "outputs": [
        {
          "output_type": "error",
          "ename": "FileNotFoundError",
          "evalue": "ignored",
          "traceback": [
            "\u001b[0;31m---------------------------------------------------------------------------\u001b[0m",
            "\u001b[0;31mFileNotFoundError\u001b[0m                         Traceback (most recent call last)",
            "\u001b[0;32m<ipython-input-2-e364c21b4105>\u001b[0m in \u001b[0;36m<module>\u001b[0;34m()\u001b[0m\n\u001b[0;32m----> 1\u001b[0;31m \u001b[0mf\u001b[0m \u001b[0;34m=\u001b[0m \u001b[0mopen\u001b[0m\u001b[0;34m(\u001b[0m\u001b[0;34mr\"/content/BKR.txt\"\u001b[0m\u001b[0;34m,\u001b[0m \u001b[0;34m\"r\"\u001b[0m\u001b[0;34m)\u001b[0m\u001b[0;34m\u001b[0m\u001b[0;34m\u001b[0m\u001b[0m\n\u001b[0m\u001b[1;32m      2\u001b[0m \u001b[0mq\u001b[0m \u001b[0;34m=\u001b[0m \u001b[0mf\u001b[0m\u001b[0;34m.\u001b[0m\u001b[0mread\u001b[0m\u001b[0;34m(\u001b[0m\u001b[0;34m)\u001b[0m\u001b[0;34m\u001b[0m\u001b[0;34m\u001b[0m\u001b[0m\n\u001b[1;32m      3\u001b[0m \u001b[0;34m\u001b[0m\u001b[0m\n\u001b[1;32m      4\u001b[0m \u001b[0;31m#f = open(r\"/content/new.txt\", \"r\")\u001b[0m\u001b[0;34m\u001b[0m\u001b[0;34m\u001b[0m\u001b[0;34m\u001b[0m\u001b[0m\n\u001b[1;32m      5\u001b[0m \u001b[0;31m#l = f.read()\u001b[0m\u001b[0;34m\u001b[0m\u001b[0;34m\u001b[0m\u001b[0;34m\u001b[0m\u001b[0m\n",
            "\u001b[0;31mFileNotFoundError\u001b[0m: [Errno 2] No such file or directory: '/content/BKR.txt'"
          ]
        }
      ]
    },
    {
      "cell_type": "code",
      "metadata": {
        "id": "Kqlrd2ZbUpbo"
      },
      "source": [
        "num_cusip = q.find('<cusip>')\n",
        "ind1 = q.find('<cusip>')\n",
        "cut1 = q\n",
        "total_holder = []\n",
        "for i in range(num_cusip):\n",
        "  ind1 = cut1.find('<cusip>')\n",
        "  cut1 = cut1[ind1:]\n",
        "  end_cus = cut1.find('</cusip>')\n",
        "  cusip = cut1[7:end_cus]\n",
        "  val_ind1 = cut1.find('sshPrnamt') #index in cut1\n",
        "  move_pst = 10\n",
        "  end_ind1 = cut1[val_ind1:].find('</sshPrnamt>')\n",
        "  value1 = cut1[val_ind1 + move_pst: val_ind1 + end_ind1]\n",
        "  cut1 = cut1[val_ind1 + end_ind1:]\n",
        "  total_holder.append((cusip, value1))\n",
        "total_holder = pd.DataFrame(total_holder, columns =['cusip', 'shares'])\n",
        "total_holder['cusip'].replace('', np.nan, inplace=True)\n",
        "total_holder.dropna(subset=['cusip'], inplace=True)\n",
        "total_holder"
      ],
      "execution_count": null,
      "outputs": []
    },
    {
      "cell_type": "code",
      "metadata": {
        "id": "JWooGNxOYLMc"
      },
      "source": [
        "#run loop for q, run loop for l. For example quarter_old, quarter_now\n",
        "#old, now\n",
        "#sum all cusips of same name in dataframe, store in new spot\n",
        "#sum_old['cusipA'] - sum_now['cusipA']\n",
        "\n",
        "#for i in range(len(quarter_old)):\n",
        "#Try loop:\n",
        "#except ERRORNAME:\n",
        "  #pass"
      ],
      "execution_count": null,
      "outputs": []
    },
    {
      "cell_type": "code",
      "metadata": {
        "id": "3gHVwWfTX1S4"
      },
      "source": [
        "total_holder"
      ],
      "execution_count": null,
      "outputs": []
    }
  ]
}