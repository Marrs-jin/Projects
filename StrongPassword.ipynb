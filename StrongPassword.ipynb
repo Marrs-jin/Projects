{
 "cells": [
  {
   "cell_type": "code",
   "execution_count": 1,
   "metadata": {},
   "outputs": [],
   "source": [
    "import numpy as np\n",
    "import re\n",
    "from itertools import groupby\n"
   ]
  },
  {
   "cell_type": "code",
   "execution_count": 4,
   "metadata": {},
   "outputs": [
    {
     "data": {
      "text/plain": [
       "['aaawkbga']"
      ]
     },
     "execution_count": 4,
     "metadata": {},
     "output_type": "execute_result"
    }
   ],
   "source": [
    "lc = re.compile('[a-z]+')\n",
    "lowercase = lc.findall(passw)\n",
    "lowercase"
   ]
  },
  {
   "cell_type": "code",
   "execution_count": 5,
   "metadata": {},
   "outputs": [
    {
     "data": {
      "text/plain": [
       "['E']"
      ]
     },
     "execution_count": 5,
     "metadata": {},
     "output_type": "execute_result"
    }
   ],
   "source": [
    "uc = re.compile('[A-Z]+')\n",
    "uppercase = uc.findall(passw)\n",
    "uppercase"
   ]
  },
  {
   "cell_type": "code",
   "execution_count": 17,
   "metadata": {},
   "outputs": [
    {
     "data": {
      "text/plain": [
       "0"
      ]
     },
     "execution_count": 17,
     "metadata": {},
     "output_type": "execute_result"
    }
   ],
   "source": [
    "len(uppercase)"
   ]
  },
  {
   "cell_type": "code",
   "execution_count": 6,
   "metadata": {},
   "outputs": [
    {
     "data": {
      "text/plain": [
       "['81']"
      ]
     },
     "execution_count": 6,
     "metadata": {},
     "output_type": "execute_result"
    }
   ],
   "source": [
    "num = re.compile('[0-9]+')\n",
    "numbers = num.findall(passw)\n",
    "numbers"
   ]
  },
  {
   "cell_type": "code",
   "execution_count": 3,
   "metadata": {},
   "outputs": [
    {
     "name": "stdout",
     "output_type": "stream",
     "text": [
      "True True False\n"
     ]
    }
   ],
   "source": [
    "passw = 'aaawkbgaE81'\n",
    "def len_check(p):\n",
    "    \"\"\"\n",
    "    tests if the password is between 6 and 20 letters long, inclusive\n",
    "    returns False if not\n",
    "    \"\"\"\n",
    "    if (len(p) < 6) or (len(p) > 20):\n",
    "        return False\n",
    "    return True\n",
    "def special_char(p):\n",
    "    \"\"\"\n",
    "    tests if there are numbers, lowercase letters\n",
    "    and upper case letters in the password.\n",
    "    returns False if any of the above are not True\n",
    "    \"\"\"\n",
    "    lc = re.compile('[a-z]+')\n",
    "    lowercase = lc.findall(p)\n",
    "    \n",
    "    uc = re.compile('[A-Z]+')\n",
    "    uppercase = uc.findall(p)\n",
    "    \n",
    "    num = re.compile('[0-9]+')\n",
    "    numbers = num.findall(p)\n",
    "    \n",
    "    if (len(lowercase) == 0) or (len(uppercase) == 0) or (len(numbers) == 0):\n",
    "        return False\n",
    "    return True\n",
    "\n",
    "def trip_repeat(p):\n",
    "    \"\"\"\n",
    "    tests if three idential characters appear consecutively\n",
    "    returns False if so\n",
    "    \"\"\"\n",
    "    groups = groupby(p)\n",
    "    #number of iterations is for consecutive\n",
    "    result = [(label, sum(1 for _ in group)) for label, group in groups] #returns list in format (og_num, number of iterations)\n",
    "    for i in result:\n",
    "        if i[1] >= 3:\n",
    "            return False\n",
    "    return True\n",
    "print(len_check(passw), special_char(passw), trip_repeat(passw))\n"
   ]
  },
  {
   "cell_type": "code",
   "execution_count": 7,
   "metadata": {},
   "outputs": [],
   "source": [
    "alphab = 'abcdefghijklmnopqrstuvwxyz'"
   ]
  },
  {
   "cell_type": "code",
   "execution_count": 9,
   "metadata": {},
   "outputs": [
    {
     "data": {
      "text/plain": [
       "'aabawkbkklkklkaE81'"
      ]
     },
     "execution_count": 9,
     "metadata": {},
     "output_type": "execute_result"
    }
   ],
   "source": [
    "#check trip repeat first, then lc, then uc. \n",
    "count = 0\n",
    "passw = 'aaawkbkkkkkaE81'\n",
    "#if trip_repeat(passw) == False:\n",
    "while (trip_repeat(passw) == False) and (count < 2):\n",
    "    groups = groupby(passw)\n",
    "    result = [(label, sum(1 for _ in group)) for label, group in groups]\n",
    "    iterations = [i[1] for i in result]\n",
    "    t = [i > 2 for i in iterations] #list with True for 3 or more letters consecutively repeat\n",
    "    t_ind = [i for i, x in enumerate(t) if x] #indices of True t values\n",
    "    for j in t_ind:\n",
    "        #print(result[j][0]) #letters that repat 3 or more times\n",
    "        bad_ind = passw.find(result[j][0] * result[j][1]) #find indices where these tripplets happen\n",
    "        \n",
    "        next_letter = alphab[alphab.find(result[j][0]) + 1] #next letter\n",
    "        passw = passw[:bad_ind+2] + next_letter + passw[2+bad_ind:]\n",
    "    count += 1\n",
    "passw"
   ]
  },
  {
   "cell_type": "code",
   "execution_count": 86,
   "metadata": {},
   "outputs": [],
   "source": [
    "beep = np.array(passw)"
   ]
  },
  {
   "cell_type": "code",
   "execution_count": 89,
   "metadata": {},
   "outputs": [
    {
     "data": {
      "text/plain": [
       "6"
      ]
     },
     "execution_count": 89,
     "metadata": {},
     "output_type": "execute_result"
    }
   ],
   "source": [
    "passw.find('ggg')"
   ]
  },
  {
   "cell_type": "code",
   "execution_count": null,
   "metadata": {},
   "outputs": [],
   "source": [
    "#case Aa: triplet 3-5\n",
    "#solution: remainder divide by 3 %, insert a new character at the spot.\n",
    "#ex: aaa. %3 = 0. 0 + 1 = 1. [1] insert b. abaa\n",
    "#Case Ab: triplet > 6. \n",
    "#solution: aabaabaa is 2 steps. \n",
    "#ex: abadfdaaaaaadfee. aaaaaa\n",
    "#aaaaa. aabaaba is 2 steps. Use solution Aa always\n",
    "\n",
    "#case B: no lower case. Solution: insert lower case a at beginning unless password[1] and password[2] are equal to the lower case\n",
    "#in that case insert b\n",
    "\n",
    "#case C: no upper case. Same as above"
   ]
  },
  {
   "cell_type": "code",
   "execution_count": 56,
   "metadata": {},
   "outputs": [
    {
     "data": {
      "text/plain": [
       "[3, 1, 1, 1, 1, 1, 1, 1, 1]"
      ]
     },
     "execution_count": 56,
     "metadata": {},
     "output_type": "execute_result"
    }
   ],
   "source": []
  },
  {
   "cell_type": "code",
   "execution_count": 31,
   "metadata": {},
   "outputs": [
    {
     "data": {
      "text/plain": [
       "[('1', 3),\n",
       " ('0', 2),\n",
       " ('1', 1),\n",
       " ('0', 1),\n",
       " ('2', 3),\n",
       " ('3', 2),\n",
       " ('4', 2),\n",
       " ('5', 5)]"
      ]
     },
     "execution_count": 31,
     "metadata": {},
     "output_type": "execute_result"
    }
   ],
   "source": [
    "s = \"1110010222334455555\"\n",
    "\n",
    "\n",
    "\n",
    "groups = groupby(s)\n",
    "result = [(label, sum(1 for _ in group)) for label, group in groups]\n",
    "result"
   ]
  },
  {
   "cell_type": "code",
   "execution_count": 37,
   "metadata": {},
   "outputs": [
    {
     "name": "stdout",
     "output_type": "stream",
     "text": [
      "3\n",
      "2\n",
      "1\n",
      "1\n",
      "3\n",
      "2\n",
      "2\n",
      "5\n"
     ]
    }
   ],
   "source": [
    "for i in result: \n",
    "    print(i[1])"
   ]
  }
 ],
 "metadata": {
  "kernelspec": {
   "display_name": "Python 3",
   "language": "python",
   "name": "python3"
  },
  "language_info": {
   "codemirror_mode": {
    "name": "ipython",
    "version": 3
   },
   "file_extension": ".py",
   "mimetype": "text/x-python",
   "name": "python",
   "nbconvert_exporter": "python",
   "pygments_lexer": "ipython3",
   "version": "3.8.1"
  }
 },
 "nbformat": 4,
 "nbformat_minor": 4
}
