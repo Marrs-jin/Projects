{
  "nbformat": 4,
  "nbformat_minor": 0,
  "metadata": {
    "colab": {
      "name": "PascalTriangle.ipynb",
      "provenance": [],
      "collapsed_sections": []
    },
    "kernelspec": {
      "name": "python3",
      "display_name": "Python 3"
    }
  },
  "cells": [
    {
      "cell_type": "code",
      "metadata": {
        "id": "HZP11uyQYSQ5"
      },
      "source": [
        "#Pascal's triangle\n",
        "import numpy as np"
      ],
      "execution_count": null,
      "outputs": []
    },
    {
      "cell_type": "code",
      "metadata": {
        "id": "p9_jzNr3YVlF",
        "colab": {
          "base_uri": "https://localhost:8080/"
        },
        "outputId": "0ba485ca-8264-4c9d-f13a-a0e4c1a02370"
      },
      "source": [
        "nrow = 8\n",
        "row_i = [1]\n",
        "all_rows = []\n",
        "for i in range(0, nrow):\n",
        "  prev_row = row_i\n",
        "  row_i = np.zeros(i+1)\n",
        "  row_i[0] = 1\n",
        "  row_i[-1] = 1\n",
        "  if i >= 2:\n",
        "    for j in range(1, i):\n",
        "      row_i[j] = np.sum(prev_row[j-1: j+1])\n",
        "  print(row_i)\n",
        "  all_rows.append(list(row_i))\n",
        "all_rows"
      ],
      "execution_count": null,
      "outputs": [
        {
          "output_type": "stream",
          "text": [
            "[1.]\n",
            "[1. 1.]\n",
            "[1. 2. 1.]\n",
            "[1. 3. 3. 1.]\n",
            "[1. 4. 6. 4. 1.]\n",
            "[ 1.  5. 10. 10.  5.  1.]\n",
            "[ 1.  6. 15. 20. 15.  6.  1.]\n",
            "[ 1.  7. 21. 35. 35. 21.  7.  1.]\n"
          ],
          "name": "stdout"
        },
        {
          "output_type": "execute_result",
          "data": {
            "text/plain": [
              "[[1.0],\n",
              " [1.0, 1.0],\n",
              " [1.0, 2.0, 1.0],\n",
              " [1.0, 3.0, 3.0, 1.0],\n",
              " [1.0, 4.0, 6.0, 4.0, 1.0],\n",
              " [1.0, 5.0, 10.0, 10.0, 5.0, 1.0],\n",
              " [1.0, 6.0, 15.0, 20.0, 15.0, 6.0, 1.0],\n",
              " [1.0, 7.0, 21.0, 35.0, 35.0, 21.0, 7.0, 1.0]]"
            ]
          },
          "metadata": {
            "tags": []
          },
          "execution_count": 29
        }
      ]
    },
    {
      "cell_type": "code",
      "metadata": {
        "id": "fQ4jB-0NZrRV",
        "colab": {
          "base_uri": "https://localhost:8080/"
        },
        "outputId": "f492087e-5a0a-481a-f637-6d87141b5de0"
      },
      "source": [
        "for i, x in enumerate(all_rows):\n",
        "  for y,j in enumerate(x):\n",
        "    x[y] = int(j)\n",
        "  all_rows[i] = x\n",
        "all_rows"
      ],
      "execution_count": null,
      "outputs": [
        {
          "output_type": "execute_result",
          "data": {
            "text/plain": [
              "[[1],\n",
              " [1, 1],\n",
              " [1, 2, 1],\n",
              " [1, 3, 3, 1],\n",
              " [1, 4, 6, 4, 1],\n",
              " [1, 5, 10, 10, 5, 1],\n",
              " [1, 6, 15, 20, 15, 6, 1],\n",
              " [1, 7, 21, 35, 35, 21, 7, 1]]"
            ]
          },
          "metadata": {
            "tags": []
          },
          "execution_count": 32
        }
      ]
    }
  ]
}